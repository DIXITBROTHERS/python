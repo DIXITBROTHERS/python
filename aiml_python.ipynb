{
 "cells": [
  {
   "cell_type": "markdown",
   "metadata": {},
   "source": [
    "                           NAME:KARAN DIXIT"
   ]
  },
  {
   "cell_type": "code",
   "execution_count": null,
   "metadata": {},
   "outputs": [],
   "source": [
    "# Q1. Python program to get sum of two integer.\n",
    "num1=int(input(\"Enter your first vaue: \"))\n",
    "num2=int(input(\"Enter your second value: \"))\n",
    "addition=num1+num2\n",
    "print(f\"The Sum of {num1} and {num2} is {num1+num2}.\")\n",
    "\n"
   ]
  },
  {
   "cell_type": "code",
   "execution_count": null,
   "metadata": {},
   "outputs": [],
   "source": [
    "# Q2. Python program to find the greatest of three number.\n",
    "a=int(input(\"Enter the first value: \"))\n",
    "b=int(input(\"Enter the sencond value: \"))\n",
    "c=int(input(\"Enter the third value: \"))\n",
    "if (a>b and a>c):\n",
    "    print(a,\" is the greater value\" )\n",
    "elif(b>a and b>c):\n",
    "    print(b,\"is the greater value\")\n",
    "elif(c>a and c>b):\n",
    "    print(c,\" is greater value\")\n",
    "else:\n",
    "    print( a,b,c,\"all are equal\")\n",
    "    "
   ]
  },
  {
   "cell_type": "code",
   "execution_count": null,
   "metadata": {},
   "outputs": [],
   "source": [
    "#Q3.  Write a python program to find the smallest number in a list.\n",
    " \n",
    "list_1 = [int(i) for i in input(\"Enter the Number by space seperated\").split()]\n",
    "\n",
    "minimum = list_1[0]\n",
    "\n",
    "for i in list_1:\n",
    "    if i < minimum:\n",
    "        minimum = i\n",
    "\n",
    "print(\"Smallest Number in the list : \",minimum)\n"
   ]
  },
  {
   "cell_type": "code",
   "execution_count": null,
   "metadata": {},
   "outputs": [],
   "source": [
    "#Q4. Write a python program to find the largest number in a list.\n",
    "\n",
    "list1 = [int(i) for i in input(\"Enter the Number by space seperated\").split()]\n",
    "\n",
    "maximum = list1[0]\n",
    "\n",
    "for i in list1:\n",
    "    if i > maximum:\n",
    "        maximum = i\n",
    "\n",
    "print(\"Largest Number in the list : \",maximum)"
   ]
  },
  {
   "cell_type": "code",
   "execution_count": null,
   "metadata": {},
   "outputs": [],
   "source": [
    "# 5.Given two integer numbers, return their product and if the product is greater than 1000, then return their sum.\n",
    "\n",
    "D = 100\n",
    "E = 50\n",
    "\n",
    "mul = D * E\n",
    "print(\"Multiply : \",mul)\n",
    "\n",
    "if mul > 1000:\n",
    "    print(\"Sum : \",D+E)"
   ]
  },
  {
   "cell_type": "code",
   "execution_count": null,
   "metadata": {},
   "outputs": [],
   "source": [
    "# 6.Write the Python Program to print the duplicates from a list of integers.\n",
    "\n",
    "list2 = [1,2,3,4,5,6,7,8,9,8,7,4,5,6,0]\n",
    "list_duplicates = []\n",
    "\n",
    "for i in list2:\n",
    "    if list2.count(i) >= 2:\n",
    "        list_duplicates.append(i)\n",
    "\n",
    "final_duplicates = list(set(list_duplicates))\n",
    "print(\"Duplicates Elements in the list : \",end = \" \")\n",
    "\n",
    "for i in final_duplicates:\n",
    "    print(i,end = \" \")"
   ]
  },
  {
   "cell_type": "code",
   "execution_count": null,
   "metadata": {},
   "outputs": [],
   "source": [
    "# 7.Given a string, display only those characters which are present at an even index number.\n",
    "\n",
    "s = \"Pregrad Campus\"\n",
    "print(\"Characters which are present at an even index number :\",end = \" \")\n",
    "for i in range(len(s)):\n",
    "    if i % 2 == 0:\n",
    "        print(s[i],end=\" \")"
   ]
  },
  {
   "cell_type": "code",
   "execution_count": null,
   "metadata": {},
   "outputs": [],
   "source": [
    "# 8. Check if the given number is even or not.\n",
    "\n",
    "num = int(input(\"Enter the Number : \"))\n",
    "\n",
    "if num % 2 == 0:\n",
    "    print(num,\"is an even number.\")\n",
    "else:\n",
    "    print(num,\"is not an even number.\")"
   ]
  },
  {
   "cell_type": "code",
   "execution_count": null,
   "metadata": {},
   "outputs": [],
   "source": [
    "# 9. Write the Python Program to check if a given number is prime or not.\n",
    "\n",
    "number = int(input(\"Enter the Number : \"))\n",
    "count = 0\n",
    "\n",
    "for i in range(2,number):\n",
    "    if number % i == 0:\n",
    "        count += 1\n",
    "\n",
    "if count == 0:\n",
    "    print(number,\"is a prime number.\")\n",
    "else:\n",
    "    print(number,\"is not a prime number.\")"
   ]
  },
  {
   "cell_type": "code",
   "execution_count": null,
   "metadata": {},
   "outputs": [],
   "source": [
    "# 10. Write the Python code to check if a given character is digit or not.\n",
    "\n",
    "character = input(\"Enter the Character : \")\n",
    "if character.isdigit():\n",
    "    print(character,\"is a digit.\")\n",
    "else:\n",
    "    print(character,\"is not a digit.\")"
   ]
  },
  {
   "cell_type": "code",
   "execution_count": null,
   "metadata": {},
   "outputs": [],
   "source": [
    "# 11. Write the Python code to check if a given character is a vowel or consonant.\n",
    "\n",
    "vowels = \"aeiou\"\n",
    "char = input(\"Enter the Character : \")\n",
    "\n",
    "if char in vowels:\n",
    "    print(char,\"is a vowel.\")\n",
    "else:\n",
    "    print(char,\"is Consonant.\")"
   ]
  },
  {
   "cell_type": "code",
   "execution_count": null,
   "metadata": {},
   "outputs": [],
   "source": [
    "# 12. We have to perform addition on a list [7, 4, 2, 9] and after addition it should give 7429.\n",
    "\n",
    "list= [7,4,2,9]\n",
    "list_add = \"\"\n",
    "\n",
    "for i in list:\n",
    "    a = str(i)\n",
    "    list_add += a\n",
    "\n",
    "print(list_add)"
   ]
  }
 ],
 "metadata": {
  "kernelspec": {
   "display_name": "Python 3",
   "language": "python",
   "name": "python3"
  },
  "language_info": {
   "codemirror_mode": {
    "name": "ipython",
    "version": 3
   },
   "file_extension": ".py",
   "mimetype": "text/x-python",
   "name": "python",
   "nbconvert_exporter": "python",
   "pygments_lexer": "ipython3",
   "version": "3.12.1"
  }
 },
 "nbformat": 4,
 "nbformat_minor": 2
}
