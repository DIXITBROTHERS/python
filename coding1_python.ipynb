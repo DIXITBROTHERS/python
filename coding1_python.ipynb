{
 "cells": [
  {
   "cell_type": "code",
   "execution_count": 3,
   "metadata": {},
   "outputs": [
    {
     "name": "stdout",
     "output_type": "stream",
     "text": [
      "1 2 3 4 5 6 7 8 9 10 "
     ]
    }
   ],
   "source": [
    "num=int(input())\n",
    "for i in range(1,num+1):\n",
    "     print(i,sep=\" \",end=\" \")"
   ]
  },
  {
   "cell_type": "code",
   "execution_count": 7,
   "metadata": {},
   "outputs": [
    {
     "name": "stdout",
     "output_type": "stream",
     "text": [
      "10 9 8 7 6 5 4 3 2 1 "
     ]
    }
   ],
   "source": [
    "num=int(input())\n",
    "for i in range(num,0,-1):\n",
    "    print(i,end=\" \")"
   ]
  },
  {
   "cell_type": "code",
   "execution_count": 6,
   "metadata": {},
   "outputs": [
    {
     "name": "stdout",
     "output_type": "stream",
     "text": [
      "2 4 6 8 10 "
     ]
    }
   ],
   "source": [
    "num=int(input())\n",
    "for i in range(1,num+1):\n",
    "    if i%2==0:\n",
    "        print(i,end=\" \") "
   ]
  },
  {
   "cell_type": "code",
   "execution_count": 8,
   "metadata": {},
   "outputs": [
    {
     "name": "stdout",
     "output_type": "stream",
     "text": [
      "1 3 5 7 9 "
     ]
    }
   ],
   "source": [
    "num=int(input())\n",
    "for i in range(1,num+1):\n",
    "     if i%2!=0:\n",
    "        print(i,end=\" \")"
   ]
  },
  {
   "cell_type": "code",
   "execution_count": 11,
   "metadata": {},
   "outputs": [
    {
     "name": "stdout",
     "output_type": "stream",
     "text": [
      "55\n"
     ]
    }
   ],
   "source": [
    "num=int(input())\n",
    "sum=0\n",
    "for i in range(1,num+1):\n",
    "    sum+=i\n",
    "print(sum)"
   ]
  },
  {
   "cell_type": "code",
   "execution_count": 18,
   "metadata": {},
   "outputs": [
    {
     "name": "stdout",
     "output_type": "stream",
     "text": [
      "6\n"
     ]
    }
   ],
   "source": [
    "a=int(input())\n",
    "sum=0\n",
    "for i in range(0,a+1):\n",
    "    if i%2==0:\n",
    "        sum+=i\n",
    "print(sum)"
   ]
  },
  {
   "cell_type": "code",
   "execution_count": 20,
   "metadata": {},
   "outputs": [
    {
     "name": "stdout",
     "output_type": "stream",
     "text": [
      "4\n"
     ]
    }
   ],
   "source": [
    "a=int(input())\n",
    "sum=0\n",
    "for i in range(0,a+1):\n",
    "    if i%2!=0:\n",
    "        sum+=i\n",
    "print(sum)"
   ]
  },
  {
   "cell_type": "code",
   "execution_count": 39,
   "metadata": {},
   "outputs": [
    {
     "name": "stdout",
     "output_type": "stream",
     "text": [
      "6\n"
     ]
    }
   ],
   "source": [
    "num=input()\n",
    "a=len(num)\n",
    "print(a)\n",
    "\n",
    "\n"
   ]
  },
  {
   "cell_type": "code",
   "execution_count": 3,
   "metadata": {},
   "outputs": [
    {
     "name": "stdout",
     "output_type": "stream",
     "text": [
      "15\n"
     ]
    }
   ],
   "source": [
    "num = input()\n",
    "list_1 = []\n",
    "for i in num:\n",
    "    list_1.append(int(i))\n",
    "\n",
    "print(sum(list_1))"
   ]
  },
  {
   "cell_type": "code",
   "execution_count": 1,
   "metadata": {},
   "outputs": [
    {
     "name": "stdout",
     "output_type": "stream",
     "text": [
      "21\n"
     ]
    }
   ],
   "source": [
    "list_alok_dj = [1,2,3,4,5,6]\n",
    "print(sum(list_alok_dj))\n",
    "# print(type(list_alok_dj))\n"
   ]
  },
  {
   "cell_type": "code",
   "execution_count": 2,
   "metadata": {},
   "outputs": [
    {
     "name": "stdout",
     "output_type": "stream",
     "text": [
      "64\n"
     ]
    }
   ],
   "source": [
    "list1 = [1, 5, 17, 18, 23]\n",
    "total = sum(list1)\n",
    "print(total)"
   ]
  },
  {
   "cell_type": "code",
   "execution_count": 30,
   "metadata": {},
   "outputs": [
    {
     "name": "stdout",
     "output_type": "stream",
     "text": [
      "15\n"
     ]
    }
   ],
   "source": [
    "num=int(input())\n",
    "sum=0\n",
    "h = 10\n",
    "len_sum = len(str(num))+1\n",
    "for i in range(0,len_sum):\n",
    "    l_digit = i%h\n",
    "    sum+=l_digit\n",
    "    l_p = str(h) + \"0\"\n",
    "    l_h = int(l_p)\n",
    "    h = l_h \n",
    "print(sum)"
   ]
  },
  {
   "cell_type": "code",
   "execution_count": 4,
   "metadata": {},
   "outputs": [
    {
     "name": "stdout",
     "output_type": "stream",
     "text": [
      "121 palendrome number\n"
     ]
    }
   ],
   "source": [
    "num=input()\n",
    "rev=num[::-1]\n",
    "if rev==num:\n",
    "    print( num ,\"palendrome number\" )\n",
    "else:\n",
    "    print(num,\"not a palindrome number \")\n",
    "    "
   ]
  },
  {
   "cell_type": "code",
   "execution_count": 5,
   "metadata": {},
   "outputs": [
    {
     "name": "stdout",
     "output_type": "stream",
     "text": [
      "5x1=5\n",
      "5x2=10\n",
      "5x3=15\n",
      "5x4=20\n",
      "5x5=25\n",
      "5x6=30\n",
      "5x7=35\n",
      "5x8=40\n",
      "5x9=45\n",
      "5x10=50\n"
     ]
    }
   ],
   "source": [
    "num=int(input())\n",
    "for i in range(1,11):\n",
    "    m=num*i\n",
    "    print(f\"{num}x{i}={m}\")\n",
    "    "
   ]
  },
  {
   "cell_type": "code",
   "execution_count": 7,
   "metadata": {},
   "outputs": [
    {
     "name": "stdout",
     "output_type": "stream",
     "text": [
      "8\n"
     ]
    }
   ],
   "source": [
    "num=int(input())\n",
    "num1=int(input())\n",
    "print(num**num1)"
   ]
  },
  {
   "cell_type": "code",
   "execution_count": 9,
   "metadata": {},
   "outputs": [
    {
     "name": "stdout",
     "output_type": "stream",
     "text": [
      "15\n"
     ]
    }
   ],
   "source": [
    "a=[1 ,2, 3, 4, 5]\n",
    "sum=0\n",
    "for i in a:\n",
    "    sum+=i\n",
    "print(sum)\n",
    "    "
   ]
  },
  {
   "cell_type": "code",
   "execution_count": 13,
   "metadata": {},
   "outputs": [
    {
     "name": "stdout",
     "output_type": "stream",
     "text": [
      "(9, 8, 7, 6, 5, 4, 3, 2, 1)\n"
     ]
    }
   ],
   "source": [
    "a=(1,2,3,4,5,6,7,8,9)\n",
    "l=[]\n",
    "for i in reversed(a):\n",
    "    l.append(i)\n",
    "o=tuple(l)\n",
    "print(o)\n",
    "    "
   ]
  },
  {
   "cell_type": "code",
   "execution_count": 2,
   "metadata": {},
   "outputs": [
    {
     "name": "stdout",
     "output_type": "stream",
     "text": [
      "[4, 5, 6, 5, 4]\n"
     ]
    }
   ],
   "source": [
    "a=[1, 2, 3, 2 ,1]\n",
    "b=3\n",
    "final_list=[]\n",
    "for i in a:\n",
    "    s=i+b\n",
    "    final_list.append(s)\n",
    "print(final_list)"
   ]
  },
  {
   "cell_type": "code",
   "execution_count": 5,
   "metadata": {},
   "outputs": [
    {
     "name": "stdout",
     "output_type": "stream",
     "text": [
      "5\n",
      "1\n"
     ]
    }
   ],
   "source": [
    "A = [1, 2, 3, 4, 5]\n",
    "print(max(A))\n",
    "print(min(A))"
   ]
  },
  {
   "cell_type": "code",
   "execution_count": 7,
   "metadata": {},
   "outputs": [
    {
     "name": "stdout",
     "output_type": "stream",
     "text": [
      "[1, 2, 3, 4, 5, 6, 7, 8, 9]\n"
     ]
    }
   ],
   "source": [
    "a=int(input())\n",
    "l=[]\n",
    "for i in range (1,a):\n",
    "    l.append(i)\n",
    "print(l)"
   ]
  },
  {
   "cell_type": "code",
   "execution_count": 16,
   "metadata": {},
   "outputs": [],
   "source": [
    "# list_1 = list((x for x in input().split()))\n",
    "# print(list_1)\n",
    "# print(type(list_1))\n",
    "\n",
    "# list_2 = list(map(int, input().split()))\n",
    "# print(list_2)"
   ]
  },
  {
   "cell_type": "code",
   "execution_count": 19,
   "metadata": {},
   "outputs": [
    {
     "name": "stdout",
     "output_type": "stream",
     "text": [
      "{'3', '4', '2', '1'}\n"
     ]
    }
   ],
   "source": [
    "set_1 = {x for x in input().split()}\n",
    "print(set_1)"
   ]
  },
  {
   "cell_type": "code",
   "execution_count": 22,
   "metadata": {},
   "outputs": [
    {
     "name": "stdout",
     "output_type": "stream",
     "text": [
      "{'12': '12', '3': '3'}\n"
     ]
    }
   ],
   "source": [
    "keys = [i for i in input().split()]\n",
    "values = [i for i in input().split()]   \n",
    "myDict = {k:v for (k,v) in zip(keys, values)}  \n",
    "print (myDict)"
   ]
  },
  {
   "cell_type": "code",
   "execution_count": 1,
   "metadata": {},
   "outputs": [
    {
     "name": "stdout",
     "output_type": "stream",
     "text": [
      "25\n"
     ]
    }
   ],
   "source": [
    "a = eval(input(\"Enter the expression that you calculated : \"))\n",
    "print(a)"
   ]
  },
  {
   "cell_type": "code",
   "execution_count": 4,
   "metadata": {},
   "outputs": [
    {
     "name": "stdout",
     "output_type": "stream",
     "text": [
      "hello world\n"
     ]
    }
   ],
   "source": [
    "def hello():\n",
    "    print(\"hello world\")\n",
    "hello()\n",
    "    \n"
   ]
  },
  {
   "cell_type": "code",
   "execution_count": 7,
   "metadata": {},
   "outputs": [
    {
     "name": "stdout",
     "output_type": "stream",
     "text": [
      "17\n"
     ]
    }
   ],
   "source": [
    "# def sum(a,b):\n",
    "#     return a+b\n",
    "# print(sum(5,10))\n",
    "\n",
    "# def sum(a,b):\n",
    "#     return a+b\n",
    "# a=int(input())\n",
    "# b=int(input())\n",
    "# print(sum(a,b))\n"
   ]
  },
  {
   "cell_type": "code",
   "execution_count": 16,
   "metadata": {},
   "outputs": [
    {
     "name": "stdout",
     "output_type": "stream",
     "text": [
      "(60, -40, 500, 0.2)\n"
     ]
    }
   ],
   "source": [
    "# def calculater(a,b):\n",
    "#    sum=a+b\n",
    "#    sub=a-b\n",
    "#    mult=a*b\n",
    "#    div=a/b\n",
    "#    return sum,sub,mult,div\n",
    "# a=int(input())\n",
    "# b=int(input())\n",
    "# print(calculater(a,b))\n",
    "\n",
    "\n",
    "        \n",
    "\n"
   ]
  },
  {
   "cell_type": "code",
   "execution_count": 33,
   "metadata": {},
   "outputs": [
    {
     "name": "stdout",
     "output_type": "stream",
     "text": [
      "{'jone': 654921, 'karan': 12395, 'adi': 125954}\n",
      "<class 'dict'>\n",
      "3\n",
      "654921\n",
      "12395\n",
      "dict_keys(['jone', 'karan', 'adi'])\n",
      "{'jone': 654921, 'karan': 48792, 'adi': 125954}\n",
      "{'jone': 654921, 'karan': 48792, 'adi': 125954, 'alok': 455112}\n",
      "{'jone': 654921, 'karan': 48792, 'adi': 125954, 'alok': 455112, 'kunal': 46112, 'ankit ': 452112, 'aniket': 125462}\n",
      "jone 654921\n",
      "karan 48792\n",
      "adi 125954\n",
      "alok 455112\n",
      "kunal 46112\n",
      "ankit  452112\n",
      "aniket 125462\n"
     ]
    }
   ],
   "source": [
    "# phone= {\n",
    "#     \"jone\": 654921,\n",
    "#     \"karan\" : 12395,\n",
    "#     \"adi\" : 125954\n",
    "# }\n",
    "# print(phone)\n",
    "# print(type(phone))\n",
    "# print(len(phone))\n",
    "# print(phone[\"jone\"])\n",
    "# print(phone.get(\"karan\"))\n",
    "# print(phone.keys())\n",
    "# phone[\"karan\"]=48792\n",
    "# print(phone)\n",
    "# phone[\"alok\"]=455112\n",
    "# print(phone)\n",
    "# newphone={\n",
    "#     \"kunal\" : 46112,\n",
    "#     \"ankit \": 452112,\n",
    "#     'aniket': 125462\n",
    "# }\n",
    "# phone.update(newphone)\n",
    "# print(phone)\n",
    "# for x,y in  phone.items():\n",
    "#     print(x,y)\n",
    "\n",
    "    \n"
   ]
  },
  {
   "cell_type": "code",
   "execution_count": 1,
   "metadata": {},
   "outputs": [
    {
     "name": "stdout",
     "output_type": "stream",
     "text": [
      "600\n"
     ]
    }
   ],
   "source": [
    "dict={ \n",
    "      \n",
    "    'a':100,\n",
    "    'b':200,\n",
    "    'c':300\n",
    "}\n",
    "\n",
    "print(sum(dict.values()))"
   ]
  },
  {
   "cell_type": "code",
   "execution_count": 7,
   "metadata": {},
   "outputs": [
    {
     "name": "stdout",
     "output_type": "stream",
     "text": [
      "28\n"
     ]
    }
   ],
   "source": [
    "def sum1(n):\n",
    "    sum12=0\n",
    "    for i in range(0,n):\n",
    "        sum12=sum12+i\n",
    "    return sum12\n",
    "n=int(input())\n",
    "print(sum1(n))\n"
   ]
  },
  {
   "cell_type": "code",
   "execution_count": 8,
   "metadata": {},
   "outputs": [
    {
     "name": "stdout",
     "output_type": "stream",
     "text": [
      "5\n"
     ]
    }
   ],
   "source": [
    "def count_word(string, word):\n",
    "    return string.count(word)\n",
    "\n",
    "string1 = input()\n",
    "word = input()\n",
    "print(count_word(string1, word))"
   ]
  },
  {
   "cell_type": "code",
   "execution_count": 17,
   "metadata": {},
   "outputs": [
    {
     "name": "stdout",
     "output_type": "stream",
     "text": [
      "False\n"
     ]
    }
   ],
   "source": [
    "def alphabate(string):\n",
    "    list_num = \"1234567890\"\n",
    "    for i in string:\n",
    "        if i in list_num:\n",
    "            return True\n",
    "        else:\n",
    "            return False\n",
    "\n",
    "string1=input() \n",
    "print(alphabate(string1))    \n"
   ]
  },
  {
   "cell_type": "code",
   "execution_count": 18,
   "metadata": {},
   "outputs": [
    {
     "name": "stdout",
     "output_type": "stream",
     "text": [
      "6\n"
     ]
    }
   ],
   "source": [
    "def find_sec_max(list1):\n",
    "    list_2 = list1\n",
    "    a = max(list_2)\n",
    "    list_2.remove(a)\n",
    "    b = max(list_2)\n",
    "    return b\n",
    "\n",
    "list_1 = list(map(int, input().split()))\n",
    "print(find_sec_max(list_1))"
   ]
  },
  {
   "cell_type": "code",
   "execution_count": 23,
   "metadata": {},
   "outputs": [],
   "source": [
    "def miss_num(list_10):\n",
    "    list_generated = list(range(list_10[0],list_10[-1]+1))\n",
    "    list_miss_num = []\n",
    "    for i in list_generated:\n",
    "        if i in list_10:\n",
    "            pass\n",
    "        else:\n",
    "            list_miss_num.append(i)\n",
    "    \n",
    "    for i in list_miss_num:\n",
    "        print(i, end=\" \")\n",
    "        \n",
    "list_102 = list(map(int, input().split()))\n",
    "miss_num(list_102)"
   ]
  },
  {
   "cell_type": "code",
   "execution_count": 16,
   "metadata": {},
   "outputs": [
    {
     "name": "stdout",
     "output_type": "stream",
     "text": [
      "{'a': 1, 'b': 2} {'c': 3, 'd': 4}\n",
      "<class 'dict'>\n",
      "<class 'dict'>\n"
     ]
    }
   ],
   "source": [
    "dict1,dict2=map(eval,input().split())\n",
    "print(dict1,dict2)\n",
    "print(type(dict1))\n",
    "print(type(dict2))"
   ]
  },
  {
   "cell_type": "code",
   "execution_count": 5,
   "metadata": {},
   "outputs": [
    {
     "name": "stdout",
     "output_type": "stream",
     "text": [
      "[4, 5, 6, 7, 8]\n"
     ]
    }
   ],
   "source": [
    "a=list(map(int,input().split()))\n",
    "b=int(input())\n",
    "d=[]\n",
    "for i in a:\n",
    "    c=b+i\n",
    "    d.append(c)\n",
    "print(d)"
   ]
  },
  {
   "cell_type": "code",
   "execution_count": 6,
   "metadata": {},
   "outputs": [
    {
     "name": "stdout",
     "output_type": "stream",
     "text": [
      "[4, 5, 6, 7, 8, 9]\n"
     ]
    }
   ],
   "source": [
    "a = list(map(int, input().split()))\n",
    "b = int(input())\n",
    "list_final = [i+b for i in a]\n",
    "# for i in a:\n",
    "#     c = i + b\n",
    "#     list_final.append(c)\n",
    "\n",
    "print(list_final)"
   ]
  },
  {
   "cell_type": "code",
   "execution_count": 7,
   "metadata": {},
   "outputs": [
    {
     "name": "stdout",
     "output_type": "stream",
     "text": [
      "50\n",
      "10\n"
     ]
    }
   ],
   "source": [
    "list_max_min=list(map(int,input().split()))\n",
    "print(max(list_max_min))\n",
    "print(min(list_max_min))"
   ]
  },
  {
   "cell_type": "code",
   "execution_count": 13,
   "metadata": {},
   "outputs": [
    {
     "name": "stdout",
     "output_type": "stream",
     "text": [
      "1\n"
     ]
    }
   ],
   "source": [
    "array=list(map(int,input().split()))\n",
    "integer=int(input())\n",
    "if integer in array :\n",
    "    print(1)\n",
    "else:\n",
    "    print(0)\n",
    "    "
   ]
  },
  {
   "cell_type": "code",
   "execution_count": 3,
   "metadata": {},
   "outputs": [
    {
     "name": "stdout",
     "output_type": "stream",
     "text": [
      "[1, 4, 16, 25]\n"
     ]
    }
   ],
   "source": [
    "array1=list(map(int,input().split()))\n",
    "array2=[x**2 for x in array1]\n",
    "# for i in array1:\n",
    "#     a=i**2\n",
    "#     array2.append(a)\n",
    "print(array2)"
   ]
  },
  {
   "cell_type": "code",
   "execution_count": 4,
   "metadata": {},
   "outputs": [
    {
     "name": "stdout",
     "output_type": "stream",
     "text": [
      "[9, 8, 7, 6, 5, 4, 3, 2, 1]\n"
     ]
    }
   ],
   "source": [
    "reverse=list(map(int,input().split()))\n",
    "finalreverse=[]\n",
    "for i in reversed(reverse):\n",
    "    finalreverse.append(i)\n",
    "print(finalreverse)"
   ]
  },
  {
   "cell_type": "code",
   "execution_count": 6,
   "metadata": {},
   "outputs": [
    {
     "name": "stdout",
     "output_type": "stream",
     "text": [
      "[7, 9, 11, 13, 15]\n"
     ]
    }
   ],
   "source": [
    "A1=list(map(int,input().split()))\n",
    "A2=list(map(int,input().split()))\n",
    "A3=[A1[i]+A2[i] for i in range(len(A1))]\n",
    "print(A3)"
   ]
  },
  {
   "cell_type": "code",
   "execution_count": 11,
   "metadata": {},
   "outputs": [
    {
     "name": "stdout",
     "output_type": "stream",
     "text": [
      "1 3\n",
      "2 3\n"
     ]
    }
   ],
   "source": [
    "t=int(input())\n",
    "vowels = \"aeiouAEIOU\"\n",
    "words = []\n",
    "vowels_1 = []\n",
    "consonents_1 = []\n",
    "for i in range(t):\n",
    "    a = input()\n",
    "    words.append(a)\n",
    "    \n",
    "for i in words:\n",
    "    vowels_count = 0\n",
    "    consonents_count = 0\n",
    "    for j in i:\n",
    "        if j in vowels:\n",
    "            vowels_count += 1\n",
    "        else:\n",
    "            consonents_count += 1\n",
    "    \n",
    "    vowels_1.append(vowels_count)\n",
    "    consonents_1.append(consonents_count)\n",
    "\n",
    "for i in range(len(vowels_1)):\n",
    "    print(vowels_1[i],consonents_1[i])"
   ]
  },
  {
   "cell_type": "code",
   "execution_count": 2,
   "metadata": {},
   "outputs": [
    {
     "name": "stdout",
     "output_type": "stream",
     "text": [
      "True\n"
     ]
    }
   ],
   "source": [
    "num = int(input(\"Enter the NUmber : \"))\n",
    "count = 0\n",
    "\n",
    "for i in range(1,num+1):\n",
    "    if num % i == 0:\n",
    "        count +=1\n",
    "    else:\n",
    "        pass\n",
    "\n",
    "print(count == 2)"
   ]
  },
  {
   "cell_type": "code",
   "execution_count": null,
   "metadata": {},
   "outputs": [],
   "source": []
  }
 ],
 "metadata": {
  "kernelspec": {
   "display_name": "Python 3",
   "language": "python",
   "name": "python3"
  },
  "language_info": {
   "codemirror_mode": {
    "name": "ipython",
    "version": 3
   },
   "file_extension": ".py",
   "mimetype": "text/x-python",
   "name": "python",
   "nbconvert_exporter": "python",
   "pygments_lexer": "ipython3",
   "version": "3.12.1"
  }
 },
 "nbformat": 4,
 "nbformat_minor": 2
}
